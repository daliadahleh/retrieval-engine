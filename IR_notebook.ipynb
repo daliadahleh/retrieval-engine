{
 "cells": [
  {
   "cell_type": "code",
   "execution_count": 3,
   "metadata": {},
   "outputs": [],
   "source": [
    "!pip --quiet install whoosh\n",
    "!pip --quiet install nltk"
   ]
  },
  {
   "cell_type": "code",
   "execution_count": 1,
   "metadata": {},
   "outputs": [],
   "source": [
    "!unzip -q /resources/data/ir_data.zip -d /resources/data"
   ]
  },
  {
   "cell_type": "code",
   "execution_count": 2,
   "metadata": {},
   "outputs": [],
   "source": [
    "!make -s -w -C /resources/data/DSS/trec_eval.8.1 > /dev/null 2>&1"
   ]
  },
  {
   "cell_type": "code",
   "execution_count": 4,
   "metadata": {
    "collapsed": true
   },
   "outputs": [],
   "source": [
    "from whoosh import index, writing\n",
    "from whoosh.fields import Schema, TEXT, KEYWORD, ID, STORED\n",
    "from whoosh.analysis import *\n",
    "from whoosh.qparser import QueryParser\n",
    "import os, os.path\n",
    "import shutil"
   ]
  },
  {
   "cell_type": "code",
   "execution_count": 5,
   "metadata": {
    "collapsed": true
   },
   "outputs": [],
   "source": [
    "DOCUMENTS_DIR = \"/resources/data/DSS/documents\"\n",
    "INDEX_DIR = \"/resources/data/index1\"\n",
    "QUER_FILE = \"/resources/data/DSS/topics/air.topics\"\n",
    "QRELS_FILE = \"/resources/data/DSS/qrels/air.qrels\"\n",
    "OUTPUT_FILE = \"/resources/data/DSS/myres\"\n",
    "TREC_EVAL = \"/resources/data/DSS/trec_eval.8.1/trec_eval\"\n",
    "INDEX_DIR2 = \"/resources/data/DSS/index2\"\n",
    "OUTPUT_FILE2 = \"/resources/data/DSS/myres2\""
   ]
  },
  {
   "cell_type": "code",
   "execution_count": 6,
   "metadata": {},
   "outputs": [],
   "source": [
    "mySchema = Schema(file_path = ID(stored=True),\n",
    "                  file_content = TEXT(analyzer = RegexTokenizer()))"
   ]
  },
  {
   "cell_type": "code",
   "execution_count": 7,
   "metadata": {},
   "outputs": [],
   "source": [
    "# if index exists remove it\n",
    "if os.path.isdir(INDEX_DIR):\n",
    "    shutil.rmtree(INDEX_DIR)\n",
    "\n",
    "os.makedirs(INDEX_DIR)\n",
    "\n",
    "# create new index\n",
    "myIndex = index.create_in(INDEX_DIR, mySchema)"
   ]
  },
  {
   "cell_type": "markdown",
   "metadata": {},
   "source": [
    "#### indexing"
   ]
  },
  {
   "cell_type": "code",
   "execution_count": 8,
   "metadata": {},
   "outputs": [
    {
     "name": "stdout",
     "output_type": "stream",
     "text": [
      "email01  email03  email05  email07  email09  email14\r\n",
      "email02  email04  email06  email08  email10\r\n"
     ]
    }
   ],
   "source": [
    "!ls $DOCUMENTS_DIR"
   ]
  },
  {
   "cell_type": "code",
   "execution_count": 9,
   "metadata": {},
   "outputs": [],
   "source": [
    "# build a list of all full paths \n",
    "filesToIndex = []\n",
    "for root, dirs, files in os.walk(DOCUMENTS_DIR):\n",
    "    filePaths = [os.path.join(root, fileName) for fileName in files if not fileName.startswith('.')]\n",
    "    filesToIndex.extend(filePaths)"
   ]
  },
  {
   "cell_type": "code",
   "execution_count": 5,
   "metadata": {},
   "outputs": [],
   "source": [
    "myWriter = writing.BufferedWriter(myIndex, period=20, limit=1000)\n",
    "\n",
    "try:\n",
    "    # write each file to index\n",
    "    for docNum, filePath in enumerate(filesToIndex):\n",
    "        with open(filePath, \"r\") as f:\n",
    "            fileContent = f.read()\n",
    "            myWriter.add_document(file_path = filePath,\n",
    "                                  file_content = fileContent)\n",
    "\n",
    "finally:\n",
    "    myWriter.close()"
   ]
  },
  {
   "cell_type": "markdown",
   "metadata": {},
   "source": [
    "#### querying"
   ]
  },
  {
   "cell_type": "code",
   "execution_count": 13,
   "metadata": {
    "collapsed": true
   },
   "outputs": [],
   "source": [
    "myQueryParser = QueryParser(\"file_content\", schema=myIndex.schema)\n",
    "mySearcher = myIndex.searcher()"
   ]
  },
  {
   "cell_type": "code",
   "execution_count": 14,
   "metadata": {},
   "outputs": [
    {
     "name": "stdout",
     "output_type": "stream",
     "text": [
      "email01 0 2.6746417187049216\n"
     ]
    }
   ],
   "source": [
    "sampleQuery = myQueryParser.parse(\"item\")\n",
    "sampleQueryResults = mySearcher.search(sampleQuery, limit=None)\n",
    "\n",
    "# for each document print the rank and the score\n",
    "for (docnum, result) in enumerate(sampleQueryResults):\n",
    "    score = sampleQueryResults.score(docnum)\n",
    "    fileName = os.path.basename(result[\"file_path\"])\n",
    "    print(fileName, docnum, score)"
   ]
  },
  {
   "cell_type": "markdown",
   "metadata": {},
   "source": [
    "#### TREC_EVAL"
   ]
  },
  {
   "cell_type": "code",
   "execution_count": 15,
   "metadata": {},
   "outputs": [
    {
     "name": "stdout",
     "output_type": "stream",
     "text": [
      "01 ducks\r\n",
      "02 ig nobel prizes\r\n",
      "03 mathematics\r\n",
      "04 flowing hair\r\n",
      "05 music\r\n",
      "06 AIR TV\r\n"
     ]
    }
   ],
   "source": [
    "!cat $QUER_FILE"
   ]
  },
  {
   "cell_type": "code",
   "execution_count": 16,
   "metadata": {},
   "outputs": [
    {
     "name": "stdout",
     "output_type": "stream",
     "text": [
      "01 0 email01 0\r\n",
      "01 0 email02 0\r\n",
      "01 0 email03 0\r\n",
      "01 0 email04 1\r\n",
      "01 0 email05 1\r\n",
      "01 0 email06 1\r\n",
      "01 0 email07 0\r\n",
      "01 0 email08 0\r\n",
      "01 0 email09 0\r\n",
      "01 0 email10 0\r\n"
     ]
    }
   ],
   "source": [
    "!head -n 10 $QRELS_FILE"
   ]
  },
  {
   "cell_type": "code",
   "execution_count": 17,
   "metadata": {},
   "outputs": [],
   "source": [
    "topicsFile = open(QUER_FILE,\"r\")\n",
    "topics = topicsFile.read().splitlines()\n",
    "\n",
    "outputTRECFile = open(OUTPUT_FILE, \"w\")\n",
    "\n",
    "# build a query and record the results in the file in TREC_EVAL format\n",
    "for topic in topics:\n",
    "    topic_id, topic_phrase = tuple(topic.split(\" \", 1))\n",
    "    topicQuery = myQueryParser.parse(topic_phrase)\n",
    "    topicResults = mySearcher.search(topicQuery, limit=None)\n",
    "    for (docnum, result) in enumerate(topicResults):\n",
    "        score = topicResults.score(docnum)\n",
    "        outputTRECFile.write(\"%s Q0 %s %d %lf test\\n\" % (topic_id, os.path.basename(result[\"file_path\"]), docnum, score))\n",
    "\n",
    "outputTRECFile.close()\n",
    "topicsFile.close()"
   ]
  },
  {
   "cell_type": "markdown",
   "metadata": {},
   "source": [
    "compare results"
   ]
  },
  {
   "cell_type": "code",
   "execution_count": 18,
   "metadata": {},
   "outputs": [
    {
     "name": "stdout",
     "output_type": "stream",
     "text": [
      "num_ret        \t01\t1\r\n",
      "num_rel        \t01\t3\r\n",
      "num_rel_ret    \t01\t1\r\n",
      "map            \t01\t0.3333\r\n",
      "R-prec         \t01\t0.3333\r\n",
      "bpref          \t01\t0.3333\r\n",
      "recip_rank     \t01\t1.0000\r\n",
      "ircl_prn.0.00  \t01\t1.0000\r\n",
      "ircl_prn.0.10  \t01\t1.0000\r\n",
      "ircl_prn.0.20  \t01\t1.0000\r\n",
      "ircl_prn.0.30  \t01\t1.0000\r\n",
      "ircl_prn.0.40  \t01\t0.0000\r\n",
      "ircl_prn.0.50  \t01\t0.0000\r\n",
      "ircl_prn.0.60  \t01\t0.0000\r\n",
      "ircl_prn.0.70  \t01\t0.0000\r\n",
      "ircl_prn.0.80  \t01\t0.0000\r\n",
      "ircl_prn.0.90  \t01\t0.0000\r\n",
      "ircl_prn.1.00  \t01\t0.0000\r\n",
      "P5             \t01\t0.2000\r\n",
      "P10            \t01\t0.1000\r\n",
      "P15            \t01\t0.0667\r\n",
      "P20            \t01\t0.0500\r\n",
      "P30            \t01\t0.0333\r\n",
      "P100           \t01\t0.0100\r\n",
      "P200           \t01\t0.0050\r\n",
      "P500           \t01\t0.0020\r\n",
      "P1000          \t01\t0.0010\r\n",
      "num_ret        \t05\t1\r\n",
      "num_rel        \t05\t2\r\n",
      "num_rel_ret    \t05\t0\r\n",
      "map            \t05\t0.0000\r\n",
      "R-prec         \t05\t0.0000\r\n",
      "bpref          \t05\t0.0000\r\n",
      "recip_rank     \t05\t0.0000\r\n",
      "ircl_prn.0.00  \t05\t0.0000\r\n",
      "ircl_prn.0.10  \t05\t0.0000\r\n",
      "ircl_prn.0.20  \t05\t0.0000\r\n",
      "ircl_prn.0.30  \t05\t0.0000\r\n",
      "ircl_prn.0.40  \t05\t0.0000\r\n",
      "ircl_prn.0.50  \t05\t0.0000\r\n",
      "ircl_prn.0.60  \t05\t0.0000\r\n",
      "ircl_prn.0.70  \t05\t0.0000\r\n",
      "ircl_prn.0.80  \t05\t0.0000\r\n",
      "ircl_prn.0.90  \t05\t0.0000\r\n",
      "ircl_prn.1.00  \t05\t0.0000\r\n",
      "P5             \t05\t0.0000\r\n",
      "P10            \t05\t0.0000\r\n",
      "P15            \t05\t0.0000\r\n",
      "P20            \t05\t0.0000\r\n",
      "P30            \t05\t0.0000\r\n",
      "P100           \t05\t0.0000\r\n",
      "P200           \t05\t0.0000\r\n",
      "P500           \t05\t0.0000\r\n",
      "P1000          \t05\t0.0000\r\n",
      "num_ret        \t06\t3\r\n",
      "num_rel        \t06\t2\r\n",
      "num_rel_ret    \t06\t2\r\n",
      "map            \t06\t0.8333\r\n",
      "R-prec         \t06\t0.5000\r\n",
      "bpref          \t06\t1.0000\r\n",
      "recip_rank     \t06\t1.0000\r\n",
      "ircl_prn.0.00  \t06\t1.0000\r\n",
      "ircl_prn.0.10  \t06\t1.0000\r\n",
      "ircl_prn.0.20  \t06\t1.0000\r\n",
      "ircl_prn.0.30  \t06\t1.0000\r\n",
      "ircl_prn.0.40  \t06\t1.0000\r\n",
      "ircl_prn.0.50  \t06\t1.0000\r\n",
      "ircl_prn.0.60  \t06\t0.6667\r\n",
      "ircl_prn.0.70  \t06\t0.6667\r\n",
      "ircl_prn.0.80  \t06\t0.6667\r\n",
      "ircl_prn.0.90  \t06\t0.6667\r\n",
      "ircl_prn.1.00  \t06\t0.6667\r\n",
      "P5             \t06\t0.4000\r\n",
      "P10            \t06\t0.2000\r\n",
      "P15            \t06\t0.1333\r\n",
      "P20            \t06\t0.1000\r\n",
      "P30            \t06\t0.0667\r\n",
      "P100           \t06\t0.0200\r\n",
      "P200           \t06\t0.0100\r\n",
      "P500           \t06\t0.0040\r\n",
      "P1000          \t06\t0.0020\r\n",
      "num_q          \tall\t3\r\n",
      "num_ret        \tall\t5\r\n",
      "num_rel        \tall\t7\r\n",
      "num_rel_ret    \tall\t3\r\n",
      "map            \tall\t0.3889\r\n",
      "gm_ap          \tall\t0.0141\r\n",
      "R-prec         \tall\t0.2778\r\n",
      "bpref          \tall\t0.4444\r\n",
      "recip_rank     \tall\t0.6667\r\n",
      "ircl_prn.0.00  \tall\t0.6667\r\n",
      "ircl_prn.0.10  \tall\t0.6667\r\n",
      "ircl_prn.0.20  \tall\t0.6667\r\n",
      "ircl_prn.0.30  \tall\t0.6667\r\n",
      "ircl_prn.0.40  \tall\t0.3333\r\n",
      "ircl_prn.0.50  \tall\t0.3333\r\n",
      "ircl_prn.0.60  \tall\t0.2222\r\n",
      "ircl_prn.0.70  \tall\t0.2222\r\n",
      "ircl_prn.0.80  \tall\t0.2222\r\n",
      "ircl_prn.0.90  \tall\t0.2222\r\n",
      "ircl_prn.1.00  \tall\t0.2222\r\n",
      "P5             \tall\t0.2000\r\n",
      "P10            \tall\t0.1000\r\n",
      "P15            \tall\t0.0667\r\n",
      "P20            \tall\t0.0500\r\n",
      "P30            \tall\t0.0333\r\n",
      "P100           \tall\t0.0100\r\n",
      "P200           \tall\t0.0050\r\n",
      "P500           \tall\t0.0020\r\n",
      "P1000          \tall\t0.0010\r\n"
     ]
    }
   ],
   "source": [
    "!$TREC_EVAL -q $QRELS_FILE $OUTPUT_FILE"
   ]
  },
  {
   "cell_type": "markdown",
   "metadata": {},
   "source": [
    "#### try different configurations"
   ]
  },
  {
   "cell_type": "code",
   "execution_count": 20,
   "metadata": {
    "collapsed": true
   },
   "outputs": [],
   "source": [
    "# define a reader object on the index\n",
    "myReader = myIndex.reader()"
   ]
  },
  {
   "cell_type": "code",
   "execution_count": 22,
   "metadata": {},
   "outputs": [
    {
     "data": {
      "text/plain": [
       "['Care',\n",
       " 'Carlos',\n",
       " 'Carmen',\n",
       " 'Carnivalesque',\n",
       " 'Carolina',\n",
       " 'Case',\n",
       " 'Cat',\n",
       " 'Catalysis',\n",
       " 'Catalyst',\n",
       " 'Catchers',\n",
       " 'Cater',\n",
       " 'Caused',\n",
       " 'Caveat',\n",
       " 'CbZF1d0021swQuc57kfqHt',\n",
       " 'Cechetto',\n",
       " 'Ceder',\n",
       " 'Celebratory',\n",
       " 'Center',\n",
       " 'Cereal',\n",
       " 'Ceremony',\n",
       " 'Cerrahi',\n",
       " 'Certolizumab',\n",
       " 'Cervical',\n",
       " 'Chair',\n",
       " 'Chalfie']"
      ]
     },
     "execution_count": 22,
     "metadata": {},
     "output_type": "execute_result"
    }
   ],
   "source": [
    "[term for term in myReader.field_terms(\"file_content\")][1000:1025]"
   ]
  },
  {
   "cell_type": "code",
   "execution_count": 23,
   "metadata": {},
   "outputs": [
    {
     "name": "stdout",
     "output_type": "stream",
     "text": [
      "29729\n"
     ]
    }
   ],
   "source": [
    "print(myReader.field_length(\"file_content\"))"
   ]
  },
  {
   "cell_type": "code",
   "execution_count": 24,
   "metadata": {},
   "outputs": [
    {
     "name": "stdout",
     "output_type": "stream",
     "text": [
      "# docs with 'bit' 1\n",
      "# docs with 'are' 11\n",
      "# docs with 'get' 6\n"
     ]
    }
   ],
   "source": [
    "print(\"# docs with 'bit'\", myReader.doc_frequency(\"file_content\", \"bit\"))\n",
    "print(\"# docs with 'are'\", myReader.doc_frequency(\"file_content\", \"are\"))\n",
    "print(\"# docs with 'get'\", myReader.doc_frequency(\"file_content\", \"get\"))"
   ]
  },
  {
   "cell_type": "code",
   "execution_count": 29,
   "metadata": {},
   "outputs": [
    {
     "data": {
      "text/plain": [
       "['go', 'do', 'text', 'analysi', 'whoosh', 'analysi']"
      ]
     },
     "execution_count": 29,
     "metadata": {},
     "output_type": "execute_result"
    }
   ],
   "source": [
    "stmLwrStpIntraAnalyzer = RegexTokenizer() | LowercaseFilter() | IntraWordFilter() | StopFilter() | StemFilter()\n",
    "[token.text for token in stmLwrStpIntraAnalyzer(\"i'm going to do Text Analysis with whoosh.analysis\")]"
   ]
  },
  {
   "cell_type": "code",
   "execution_count": 30,
   "metadata": {
    "collapsed": true
   },
   "outputs": [],
   "source": [
    "mySchema2 = Schema(file_path = ID(stored=True),\n",
    "                   file_content = TEXT(analyzer = stmLwrStpIntraAnalyzer))"
   ]
  },
  {
   "cell_type": "code",
   "execution_count": 31,
   "metadata": {},
   "outputs": [],
   "source": [
    "if os.path.isdir(INDEX_DIR2):\n",
    "    shutil.rmtree(INDEX_DIR2)\n",
    "\n",
    "os.makedirs(INDEX_DIR2)\n",
    "\n",
    "myIndex2 = index.create_in(INDEX_DIR2, mySchema2)"
   ]
  },
  {
   "cell_type": "code",
   "execution_count": 32,
   "metadata": {},
   "outputs": [
    {
     "name": "stdout",
     "output_type": "stream",
     "text": [
      "already indexed: 1\n",
      "done indexing.\n"
     ]
    }
   ],
   "source": [
    "myWriter2 = writing.BufferedWriter(myIndex2, period=20, limit=1000)\n",
    "\n",
    "try:\n",
    "    for docNum, filePath in enumerate(filesToIndex):\n",
    "        with open(filePath, \"r\") as f:\n",
    "            fileContent = f.read()\n",
    "            myWriter2.add_document(file_path = filePath,\n",
    "                                  file_content = fileContent)\n",
    "            \n",
    "            if (docNum % 1000 == 0):\n",
    "                print(\"already indexed:\", docNum+1)\n",
    "    print(\"done indexing.\")\n",
    "\n",
    "finally:\n",
    "    myWriter2.close()"
   ]
  },
  {
   "cell_type": "code",
   "execution_count": 33,
   "metadata": {
    "collapsed": true
   },
   "outputs": [],
   "source": [
    "myQueryParser2 = QueryParser(\"file_content\", schema=myIndex2.schema)\n",
    "mySearcher2 = myIndex2.searcher()"
   ]
  },
  {
   "cell_type": "code",
   "execution_count": 34,
   "metadata": {
    "collapsed": true
   },
   "outputs": [],
   "source": [
    "topicsFile = open(QUER_FILE,\"r\")\n",
    "topics = topicsFile.read().splitlines()\n",
    "\n",
    "outputTRECFile2 = open(OUTPUT_FILE2, \"w\")\n",
    "\n",
    "for topic in topics:\n",
    "    topic_id, topic_phrase = tuple(topic.split(\" \", 1))\n",
    "    topicQuery = myQueryParser2.parse(topic_phrase)\n",
    "    topicResults = mySearcher2.search(topicQuery, limit=None)\n",
    "    for (docnum, result) in enumerate(topicResults):\n",
    "        score = topicResults.score(docnum)\n",
    "        outputTRECFile2.write(\"%s Q0 %s %d %lf test\\n\" % (topic_id, os.path.basename(result[\"file_path\"]), docnum, score))\n",
    "\n",
    "outputTRECFile2.close()\n",
    "topicsFile.close()"
   ]
  },
  {
   "cell_type": "code",
   "execution_count": 35,
   "metadata": {},
   "outputs": [
    {
     "name": "stdout",
     "output_type": "stream",
     "text": [
      "num_ret        \t01\t3\r\n",
      "num_rel        \t01\t3\r\n",
      "num_rel_ret    \t01\t3\r\n",
      "map            \t01\t1.0000\r\n",
      "R-prec         \t01\t1.0000\r\n",
      "bpref          \t01\t1.0000\r\n",
      "recip_rank     \t01\t1.0000\r\n",
      "ircl_prn.0.00  \t01\t1.0000\r\n",
      "ircl_prn.0.10  \t01\t1.0000\r\n",
      "ircl_prn.0.20  \t01\t1.0000\r\n",
      "ircl_prn.0.30  \t01\t1.0000\r\n",
      "ircl_prn.0.40  \t01\t1.0000\r\n",
      "ircl_prn.0.50  \t01\t1.0000\r\n",
      "ircl_prn.0.60  \t01\t1.0000\r\n",
      "ircl_prn.0.70  \t01\t1.0000\r\n",
      "ircl_prn.0.80  \t01\t1.0000\r\n",
      "ircl_prn.0.90  \t01\t1.0000\r\n",
      "ircl_prn.1.00  \t01\t1.0000\r\n",
      "P5             \t01\t0.6000\r\n",
      "P10            \t01\t0.3000\r\n",
      "P15            \t01\t0.2000\r\n",
      "P20            \t01\t0.1500\r\n",
      "P30            \t01\t0.1000\r\n",
      "P100           \t01\t0.0300\r\n",
      "P200           \t01\t0.0150\r\n",
      "P500           \t01\t0.0060\r\n",
      "P1000          \t01\t0.0030\r\n",
      "num_ret        \t02\t11\r\n",
      "num_rel        \t02\t8\r\n",
      "num_rel_ret    \t02\t8\r\n",
      "map            \t02\t0.9207\r\n",
      "R-prec         \t02\t0.8750\r\n",
      "bpref          \t02\t0.7500\r\n",
      "recip_rank     \t02\t1.0000\r\n",
      "ircl_prn.0.00  \t02\t1.0000\r\n",
      "ircl_prn.0.10  \t02\t1.0000\r\n",
      "ircl_prn.0.20  \t02\t1.0000\r\n",
      "ircl_prn.0.30  \t02\t1.0000\r\n",
      "ircl_prn.0.40  \t02\t1.0000\r\n",
      "ircl_prn.0.50  \t02\t1.0000\r\n",
      "ircl_prn.0.60  \t02\t0.8750\r\n",
      "ircl_prn.0.70  \t02\t0.8750\r\n",
      "ircl_prn.0.80  \t02\t0.8750\r\n",
      "ircl_prn.0.90  \t02\t0.8000\r\n",
      "ircl_prn.1.00  \t02\t0.8000\r\n",
      "P5             \t02\t0.8000\r\n",
      "P10            \t02\t0.8000\r\n",
      "P15            \t02\t0.5333\r\n",
      "P20            \t02\t0.4000\r\n",
      "P30            \t02\t0.2667\r\n",
      "P100           \t02\t0.0800\r\n",
      "P200           \t02\t0.0400\r\n",
      "P500           \t02\t0.0160\r\n",
      "P1000          \t02\t0.0080\r\n",
      "num_ret        \t03\t2\r\n",
      "num_rel        \t03\t1\r\n",
      "num_rel_ret    \t03\t1\r\n",
      "map            \t03\t1.0000\r\n",
      "R-prec         \t03\t1.0000\r\n",
      "bpref          \t03\t1.0000\r\n",
      "recip_rank     \t03\t1.0000\r\n",
      "ircl_prn.0.00  \t03\t1.0000\r\n",
      "ircl_prn.0.10  \t03\t1.0000\r\n",
      "ircl_prn.0.20  \t03\t1.0000\r\n",
      "ircl_prn.0.30  \t03\t1.0000\r\n",
      "ircl_prn.0.40  \t03\t1.0000\r\n",
      "ircl_prn.0.50  \t03\t1.0000\r\n",
      "ircl_prn.0.60  \t03\t1.0000\r\n",
      "ircl_prn.0.70  \t03\t1.0000\r\n",
      "ircl_prn.0.80  \t03\t1.0000\r\n",
      "ircl_prn.0.90  \t03\t1.0000\r\n",
      "ircl_prn.1.00  \t03\t1.0000\r\n",
      "P5             \t03\t0.2000\r\n",
      "P10            \t03\t0.1000\r\n",
      "P15            \t03\t0.0667\r\n",
      "P20            \t03\t0.0500\r\n",
      "P30            \t03\t0.0333\r\n",
      "P100           \t03\t0.0100\r\n",
      "P200           \t03\t0.0050\r\n",
      "P500           \t03\t0.0020\r\n",
      "P1000          \t03\t0.0010\r\n",
      "num_ret        \t04\t8\r\n",
      "num_rel        \t04\t5\r\n",
      "num_rel_ret    \t04\t5\r\n",
      "map            \t04\t0.8393\r\n",
      "R-prec         \t04\t0.6000\r\n",
      "bpref          \t04\t0.8400\r\n",
      "recip_rank     \t04\t1.0000\r\n",
      "ircl_prn.0.00  \t04\t1.0000\r\n",
      "ircl_prn.0.10  \t04\t1.0000\r\n",
      "ircl_prn.0.20  \t04\t1.0000\r\n",
      "ircl_prn.0.30  \t04\t1.0000\r\n",
      "ircl_prn.0.40  \t04\t1.0000\r\n",
      "ircl_prn.0.50  \t04\t1.0000\r\n",
      "ircl_prn.0.60  \t04\t1.0000\r\n",
      "ircl_prn.0.70  \t04\t0.6250\r\n",
      "ircl_prn.0.80  \t04\t0.6250\r\n",
      "ircl_prn.0.90  \t04\t0.6250\r\n",
      "ircl_prn.1.00  \t04\t0.6250\r\n",
      "P5             \t04\t0.6000\r\n",
      "P10            \t04\t0.5000\r\n",
      "P15            \t04\t0.3333\r\n",
      "P20            \t04\t0.2500\r\n",
      "P30            \t04\t0.1667\r\n",
      "P100           \t04\t0.0500\r\n",
      "P200           \t04\t0.0250\r\n",
      "P500           \t04\t0.0100\r\n",
      "P1000          \t04\t0.0050\r\n",
      "num_ret        \t05\t2\r\n",
      "num_rel        \t05\t2\r\n",
      "num_rel_ret    \t05\t0\r\n",
      "map            \t05\t0.0000\r\n",
      "R-prec         \t05\t0.0000\r\n",
      "bpref          \t05\t0.0000\r\n",
      "recip_rank     \t05\t0.0000\r\n",
      "ircl_prn.0.00  \t05\t0.0000\r\n",
      "ircl_prn.0.10  \t05\t0.0000\r\n",
      "ircl_prn.0.20  \t05\t0.0000\r\n",
      "ircl_prn.0.30  \t05\t0.0000\r\n",
      "ircl_prn.0.40  \t05\t0.0000\r\n",
      "ircl_prn.0.50  \t05\t0.0000\r\n",
      "ircl_prn.0.60  \t05\t0.0000\r\n",
      "ircl_prn.0.70  \t05\t0.0000\r\n",
      "ircl_prn.0.80  \t05\t0.0000\r\n",
      "ircl_prn.0.90  \t05\t0.0000\r\n",
      "ircl_prn.1.00  \t05\t0.0000\r\n",
      "P5             \t05\t0.0000\r\n",
      "P10            \t05\t0.0000\r\n",
      "P15            \t05\t0.0000\r\n",
      "P20            \t05\t0.0000\r\n",
      "P30            \t05\t0.0000\r\n",
      "P100           \t05\t0.0000\r\n",
      "P200           \t05\t0.0000\r\n",
      "P500           \t05\t0.0000\r\n",
      "P1000          \t05\t0.0000\r\n",
      "num_ret        \t06\t3\r\n",
      "num_rel        \t06\t2\r\n",
      "num_rel_ret    \t06\t2\r\n",
      "map            \t06\t0.8333\r\n",
      "R-prec         \t06\t0.5000\r\n",
      "bpref          \t06\t1.0000\r\n",
      "recip_rank     \t06\t1.0000\r\n",
      "ircl_prn.0.00  \t06\t1.0000\r\n",
      "ircl_prn.0.10  \t06\t1.0000\r\n",
      "ircl_prn.0.20  \t06\t1.0000\r\n",
      "ircl_prn.0.30  \t06\t1.0000\r\n",
      "ircl_prn.0.40  \t06\t1.0000\r\n",
      "ircl_prn.0.50  \t06\t1.0000\r\n",
      "ircl_prn.0.60  \t06\t0.6667\r\n",
      "ircl_prn.0.70  \t06\t0.6667\r\n",
      "ircl_prn.0.80  \t06\t0.6667\r\n",
      "ircl_prn.0.90  \t06\t0.6667\r\n",
      "ircl_prn.1.00  \t06\t0.6667\r\n",
      "P5             \t06\t0.4000\r\n",
      "P10            \t06\t0.2000\r\n",
      "P15            \t06\t0.1333\r\n",
      "P20            \t06\t0.1000\r\n",
      "P30            \t06\t0.0667\r\n",
      "P100           \t06\t0.0200\r\n",
      "P200           \t06\t0.0100\r\n",
      "P500           \t06\t0.0040\r\n",
      "P1000          \t06\t0.0020\r\n",
      "num_q          \tall\t6\r\n",
      "num_ret        \tall\t29\r\n",
      "num_rel        \tall\t21\r\n",
      "num_rel_ret    \tall\t19\r\n",
      "map            \tall\t0.7656\r\n",
      "gm_ap          \tall\t0.1364\r\n",
      "R-prec         \tall\t0.6625\r\n",
      "bpref          \tall\t0.7650\r\n",
      "recip_rank     \tall\t0.8333\r\n",
      "ircl_prn.0.00  \tall\t0.8333\r\n",
      "ircl_prn.0.10  \tall\t0.8333\r\n",
      "ircl_prn.0.20  \tall\t0.8333\r\n",
      "ircl_prn.0.30  \tall\t0.8333\r\n",
      "ircl_prn.0.40  \tall\t0.8333\r\n",
      "ircl_prn.0.50  \tall\t0.8333\r\n",
      "ircl_prn.0.60  \tall\t0.7569\r\n",
      "ircl_prn.0.70  \tall\t0.6944\r\n",
      "ircl_prn.0.80  \tall\t0.6944\r\n",
      "ircl_prn.0.90  \tall\t0.6819\r\n",
      "ircl_prn.1.00  \tall\t0.6819\r\n",
      "P5             \tall\t0.4333\r\n",
      "P10            \tall\t0.3167\r\n",
      "P15            \tall\t0.2111\r\n",
      "P20            \tall\t0.1583\r\n",
      "P30            \tall\t0.1056\r\n",
      "P100           \tall\t0.0317\r\n",
      "P200           \tall\t0.0158\r\n",
      "P500           \tall\t0.0063\r\n",
      "P1000          \tall\t0.0032\r\n"
     ]
    }
   ],
   "source": [
    "!$TREC_EVAL -q $QRELS_FILE $OUTPUT_FILE2"
   ]
  },
  {
   "cell_type": "code",
   "execution_count": 36,
   "metadata": {},
   "outputs": [
    {
     "name": "stdout",
     "output_type": "stream",
     "text": [
      "# docs with 'bit' 11\n",
      "# docs with 'are' 0\n",
      "# docs with 'get' 7\n"
     ]
    }
   ],
   "source": [
    "myReader2 = myIndex2.reader()\n",
    "print(\"# docs with 'bit'\", myReader2.doc_frequency(\"file_content\", \"bit\"))\n",
    "print(\"# docs with 'are'\", myReader2.doc_frequency(\"file_content\", \"are\"))\n",
    "print(\"# docs with 'get'\", myReader2.doc_frequency(\"file_content\", \"get\"))"
   ]
  },
  {
   "cell_type": "markdown",
   "metadata": {},
   "source": [
    "#### compare to NLTK's stemmers and lemmatizers"
   ]
  },
  {
   "cell_type": "code",
   "execution_count": 37,
   "metadata": {
    "collapsed": true
   },
   "outputs": [],
   "source": [
    "import nltk\n",
    "from nltk.stem import *"
   ]
  },
  {
   "cell_type": "code",
   "execution_count": 38,
   "metadata": {},
   "outputs": [
    {
     "name": "stdout",
     "output_type": "stream",
     "text": [
      "[nltk_data] Downloading package wordnet to /home/notebook/nltk_data...\n",
      "[nltk_data]   Unzipping corpora/wordnet.zip.\n"
     ]
    },
    {
     "data": {
      "text/plain": [
       "True"
      ]
     },
     "execution_count": 38,
     "metadata": {},
     "output_type": "execute_result"
    }
   ],
   "source": [
    "nltk.download(\"wordnet\")"
   ]
  },
  {
   "cell_type": "code",
   "execution_count": 39,
   "metadata": {},
   "outputs": [],
   "source": [
    "lrStem = LancasterStemmer()\n",
    "sbStem = SnowballStemmer(\"english\")\n",
    "wnLemm = WordNetLemmatizer()"
   ]
  },
  {
   "cell_type": "code",
   "execution_count": 40,
   "metadata": {},
   "outputs": [],
   "source": [
    "listWords = [\"going\", \"saying\", \"minimize\", \"maximum\", \n",
    "             \"meeting\", \"files\", \"tries\", \"is\", \"are\", \"beautiful\",\n",
    "             \"summarize\", \"better\", \"dogs\", \"phenomena\"]"
   ]
  },
  {
   "cell_type": "code",
   "execution_count": 41,
   "metadata": {},
   "outputs": [
    {
     "name": "stdout",
     "output_type": "stream",
     "text": [
      "          going              go           going              go\n",
      "            say             say          saying             say\n",
      "          minim           minim        minimize        minimize\n",
      "          maxim         maximum         maximum         maximum\n",
      "           meet            meet         meeting            meet\n",
      "            fil            file            file            file\n",
      "            tri             tri             try             try\n",
      "             is              is              is              be\n",
      "             ar             are             are              be\n",
      "         beauty          beauti       beautiful       beautiful\n",
      "           summ          summar       summarize       summarize\n",
      "            bet          better          better          better\n",
      "            dog             dog             dog             dog\n",
      "       phenomen       phenomena      phenomenon       phenomena\n"
     ]
    }
   ],
   "source": [
    "for word in listWords:\n",
    "    print(\"%15s %15s %15s %15s\" % (lrStem.stem(word),\n",
    "                                   sbStem.stem(word),\n",
    "                                   wnLemm.lemmatize(word),\n",
    "                                   wnLemm.lemmatize(word, 'v')))"
   ]
  },
  {
   "cell_type": "markdown",
   "metadata": {},
   "source": [
    "### whoosh"
   ]
  },
  {
   "cell_type": "code",
   "execution_count": 42,
   "metadata": {},
   "outputs": [],
   "source": [
    "from whoosh.analysis import Filter\n",
    "class CustomFilter(Filter):\n",
    "    is_morph = True\n",
    "    def __init__(self, filterFunc, *args, **kwargs):\n",
    "        self.customFilter = filterFunc\n",
    "        self.args = args\n",
    "        self.kwargs = kwargs\n",
    "    def __eq__(self):\n",
    "        return (other\n",
    "                and self.__class__ is other.__class__)\n",
    "    def __call__(self, tokens):\n",
    "        for t in tokens:\n",
    "            if t.mode == 'query': # if called by query parser\n",
    "                t.text = self.customFilter(t.text, *self.args, **self.kwargs)\n",
    "                yield t\n",
    "            else: # == 'index' if called by indexer\n",
    "                t.text = self.customFilter(t.text, *self.args, **self.kwargs)\n",
    "                yield t"
   ]
  },
  {
   "cell_type": "code",
   "execution_count": 43,
   "metadata": {},
   "outputs": [
    {
     "data": {
      "text/plain": [
       "['we', 'ar', 'going', 'to', 'do', 'text', 'analys', 'with', 'whoosh.analysis']"
      ]
     },
     "execution_count": 43,
     "metadata": {},
     "output_type": "execute_result"
    }
   ],
   "source": [
    "# NLTK's LancasterStemmer\n",
    "myFilter1 = RegexTokenizer() | CustomFilter(LancasterStemmer().stem)\n",
    "[token.text for token in myFilter1(\"We are going to do Text Analysis with whoosh.analysis\")]"
   ]
  },
  {
   "cell_type": "code",
   "execution_count": 44,
   "metadata": {},
   "outputs": [
    {
     "data": {
      "text/plain": [
       "['We',\n",
       " 'are',\n",
       " 'going',\n",
       " 'to',\n",
       " 'do',\n",
       " 'Text',\n",
       " 'Analysis',\n",
       " 'with',\n",
       " 'whoosh.analysis']"
      ]
     },
     "execution_count": 44,
     "metadata": {},
     "output_type": "execute_result"
    }
   ],
   "source": [
    "# NLTK's WordNetLemmatizer\n",
    "myFilter2 = RegexTokenizer() | CustomFilter(WordNetLemmatizer().lemmatize)\n",
    "[token.text for token in myFilter2(\"We are going to do Text Analysis with whoosh.analysis\")]"
   ]
  },
  {
   "cell_type": "code",
   "execution_count": 45,
   "metadata": {},
   "outputs": [
    {
     "data": {
      "text/plain": [
       "['We', 'be', 'go', 'to', 'do', 'Text', 'Analysis', 'with', 'whoosh.analysis']"
      ]
     },
     "execution_count": 45,
     "metadata": {},
     "output_type": "execute_result"
    }
   ],
   "source": [
    "# NLTK's WordNetLemmatizer for verbs\n",
    "myFilter3 = RegexTokenizer() | CustomFilter(WordNetLemmatizer().lemmatize, 'v')\n",
    "[token.text for token in myFilter3(\"We are going to do Text Analysis with whoosh.analysis\")]"
   ]
  },
  {
   "cell_type": "code",
   "execution_count": null,
   "metadata": {
    "collapsed": true
   },
   "outputs": [],
   "source": []
  }
 ],
 "metadata": {
  "kernelspec": {
   "display_name": "Python 3",
   "language": "python",
   "name": "python3"
  },
  "language_info": {
   "codemirror_mode": {
    "name": "ipython",
    "version": 3
   },
   "file_extension": ".py",
   "mimetype": "text/x-python",
   "name": "python",
   "nbconvert_exporter": "python",
   "pygments_lexer": "ipython3",
   "version": "3.7.0"
  },
  "widgets": {
   "state": {},
   "version": "1.1.2"
  }
 },
 "nbformat": 4,
 "nbformat_minor": 1
}
